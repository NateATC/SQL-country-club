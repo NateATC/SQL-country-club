{
 "cells": [
  {
   "cell_type": "code",
   "execution_count": 1,
   "id": "ffb3f0d5",
   "metadata": {},
   "outputs": [],
   "source": [
    "import sqlite3"
   ]
  },
  {
   "cell_type": "markdown",
   "id": "27408a10",
   "metadata": {},
   "source": [
    "Q10: Produce a list of facilities with a total revenue less than 1000.\n",
    "The output of facility name and total revenue, sorted by revenue. Remember\n",
    "that there's a different cost for guests and members!"
   ]
  },
  {
   "cell_type": "code",
   "execution_count": 2,
   "id": "8dff97a1",
   "metadata": {},
   "outputs": [],
   "source": [
    "conn = sqlite3.connect('sqlite_db_pythonsqlite.db')\n",
    "c = conn.cursor()"
   ]
  },
  {
   "cell_type": "code",
   "execution_count": 7,
   "id": "9224222b",
   "metadata": {},
   "outputs": [
    {
     "name": "stdout",
     "output_type": "stream",
     "text": [
      "[('Bookings',), ('Facilities',), ('Members',)]\n"
     ]
    }
   ],
   "source": [
    "c.execute('SELECT name FROM sqlite_master WHERE type = \"table\" ;')\n",
    "table_names = c.fetchall()\n",
    "print(table_names)"
   ]
  },
  {
   "cell_type": "code",
   "execution_count": 12,
   "id": "7aacc588",
   "metadata": {},
   "outputs": [
    {
     "name": "stdout",
     "output_type": "stream",
     "text": [
      "[(0, 'facid', 'int(1)', 1, \"'0'\", 1), (1, 'name', 'varchar(15)', 0, 'NULL', 0), (2, 'membercost', 'decimal(2,1)', 0, 'NULL', 0), (3, 'guestcost', 'decimal(3,1)', 0, 'NULL', 0), (4, 'initialoutlay', 'int(5)', 0, 'NULL', 0), (5, 'monthlymaintenance', 'int(4)', 0, 'NULL', 0)]\n",
      "[(0, 'bookid', 'int(4)', 1, \"'0'\", 1), (1, 'facid', 'int(1)', 0, 'NULL', 0), (2, 'memid', 'int(2)', 0, 'NULL', 0), (3, 'starttime', 'varchar(19)', 0, 'NULL', 0), (4, 'slots', 'int(2)', 0, 'NULL', 0)]\n",
      "[(0, 'memid', 'int(2)', 1, \"'0'\", 1), (1, 'surname', 'varchar(17)', 0, 'NULL', 0), (2, 'firstname', 'varchar(9)', 0, 'NULL', 0), (3, 'address', 'varchar(39)', 0, 'NULL', 0), (4, 'zipcode', 'int(5)', 0, 'NULL', 0), (5, 'telephone', 'varchar(14)', 0, 'NULL', 0), (6, 'recommendedby', 'varchar(2)', 0, 'NULL', 0), (7, 'joindate', 'varchar(19)', 0, 'NULL', 0)]\n"
     ]
    }
   ],
   "source": [
    "c.execute(\"PRAGMA table_info('Facilities');\")\n",
    "facilities_fields = c.fetchall()\n",
    "print(facilities_fields)\n",
    "\n",
    "c.execute(\"PRAGMA table_info('Bookings');\")\n",
    "booking_fields = c.fetchall()\n",
    "print(booking_fields)\n",
    "\n",
    "c.execute(\"PRAGMA table_info('Members');\")\n",
    "members_fields = c.fetchall()\n",
    "print(members_fields)"
   ]
  },
  {
   "cell_type": "code",
   "execution_count": 20,
   "id": "81d6c2f4",
   "metadata": {},
   "outputs": [
    {
     "name": "stdout",
     "output_type": "stream",
     "text": [
      "[('Table Tennis', 180), ('Snooker Table', 240), ('Pool Table', 270)]\n"
     ]
    }
   ],
   "source": [
    "cte = \"\"\"WITH member_revenue AS (SELECT f.name, SUM(f.membercost * b.slots) as mem_rev\n",
    "             FROM Bookings as b\n",
    "             LEFT JOIN Facilities as f\n",
    "             ON b.facid = f.facid\n",
    "             WHERE memid != 0\n",
    "             GROUP BY b.facid),\n",
    "             guest_revenue AS (SELECT f.name, SUM(f.guestcost * b.slots) as guest_rev\n",
    "             FROM Bookings as b\n",
    "             LEFT JOIN Facilities as f\n",
    "             ON b.facid = f.facid\n",
    "             WHERE memid = 0\n",
    "             GROUP BY b.facid)\"\"\"\n",
    "query = \"\"\"SELECT member_revenue.name, mem_rev + guest_rev AS total_rev\n",
    "             FROM member_revenue\n",
    "             FULL JOIN guest_revenue\n",
    "             ON member_revenue.name = guest_revenue.name\n",
    "             WHERE mem_rev + guest_rev < 1000\"\"\"\n",
    "c.execute(cte + query)\n",
    "print(c.fetchall())\n",
    "             "
   ]
  },
  {
   "cell_type": "markdown",
   "id": "b050d2e7",
   "metadata": {},
   "source": [
    "Q11: Produce a report of members and who recommended them in alphabetic surname,firstname order"
   ]
  },
  {
   "cell_type": "code",
   "execution_count": 24,
   "id": "943e290f",
   "metadata": {},
   "outputs": [
    {
     "name": "stdout",
     "output_type": "stream",
     "text": [
      "[('Bader', 'Florence', 'SarwinRamnaresh'), ('Baker', 'Anne', None), ('Baker', 'Timothy', 'CoplinJoan'), ('Boothe', 'Tim', None), ('Butters', 'Gerald', 'GentingMatthew'), ('Coplin', 'Joan', None), ('Crumpet', 'Erica', None), ('Dare', 'Nancy', None), ('Farrell', 'Jemima', 'BakerTimothy'), ('Farrell', 'Jemima', 'PinkerDavid'), ('Farrell', 'David', None), ('GUEST', 'GUEST', None), ('Genting', 'Matthew', 'RumneyHenrietta'), ('Hunt', 'John', None), ('Jones', 'David', 'JonesDouglas'), ('Jones', 'Douglas', None), ('Joplette', 'Janice', 'DareNancy'), ('Joplette', 'Janice', 'JonesDavid'), ('Mackenzie', 'Anna', None), ('Owen', 'Charles', None), ('Pinker', 'David', None), ('Purview', 'Millicent', 'HuntJohn'), ('Rownam', 'Tim', 'BootheTim'), ('Rumney', 'Henrietta', None), ('Sarwin', 'Ramnaresh', None), ('Smith', 'Darren', 'JopletteJanice'), ('Smith', 'Darren', 'ButtersGerald'), ('Smith', 'Darren', 'OwenCharles'), ('Smith', 'Darren', 'SmithJack'), ('Smith', 'Darren', 'MackenzieAnna'), ('Smith', 'Tracy', 'Worthington-SmythHenry'), ('Smith', 'Tracy', 'PurviewMillicent'), ('Smith', 'Tracy', 'CrumpetErica'), ('Smith', 'Jack', None), ('Smith', 'Darren', None), ('Stibbons', 'Ponder', 'BakerAnne'), ('Stibbons', 'Ponder', 'BaderFlorence'), ('Tracy', 'Burton', 'StibbonsPonder'), ('Tupperware', 'Hyacinth', None), ('Worthington-Smyth', 'Henry', None)]\n"
     ]
    }
   ],
   "source": [
    "c.execute(\"\"\"SELECT m.surname, m.firstname, (r.surname || r.firstname) AS recommended_by\n",
    "         FROM Members as m\n",
    "         LEFT JOIN Members as r\n",
    "         ON m.memid = r.recommendedby\n",
    "         ORDER BY m.surname\"\"\")\n",
    "print(c.fetchall())"
   ]
  },
  {
   "cell_type": "markdown",
   "id": "63f789d7",
   "metadata": {},
   "source": [
    "Q12: Find the facilities with their usage by member, but not guests"
   ]
  },
  {
   "cell_type": "code",
   "execution_count": 27,
   "id": "5109b247",
   "metadata": {},
   "outputs": [
    {
     "name": "stdout",
     "output_type": "stream",
     "text": [
      "[('Badminton Court', 'Anna', 'Mackenzie', 96), ('Badminton Court', 'Anne', 'Baker', 30), ('Badminton Court', 'Burton', 'Tracy', 6), ('Badminton Court', 'Charles', 'Owen', 18), ('Badminton Court', 'Darren', 'Smith', 432), ('Badminton Court', 'David', 'Jones', 24), ('Badminton Court', 'David', 'Pinker', 21), ('Badminton Court', 'Douglas', 'Jones', 6), ('Badminton Court', 'Erica', 'Crumpet', 6), ('Badminton Court', 'Florence', 'Bader', 27), ('Badminton Court', 'Gerald', 'Butters', 63), ('Badminton Court', 'Henry', 'Worthington-Smyth', 15), ('Badminton Court', 'Hyacinth', 'Tupperware', 3), ('Badminton Court', 'Jack', 'Smith', 36), ('Badminton Court', 'Jemima', 'Farrell', 21), ('Badminton Court', 'John', 'Hunt', 6), ('Badminton Court', 'Millicent', 'Purview', 6), ('Badminton Court', 'Nancy', 'Dare', 30), ('Badminton Court', 'Ponder', 'Stibbons', 48), ('Badminton Court', 'Ramnaresh', 'Sarwin', 21)]\n"
     ]
    }
   ],
   "source": [
    "c.execute(\"\"\"SELECT f.name, m.firstname, m.surname, SUM(b.slots)\n",
    "             FROM Bookings as b\n",
    "             LEFT JOIN Facilities as f\n",
    "             ON b.facid = f.facid\n",
    "             LEFT JOIN Members as m\n",
    "             ON b.memid = m.memid\n",
    "             WHERE b.memid != 0\n",
    "             GROUP BY f.name, m.firstname, m.surname\"\"\")\n",
    "print(c.fetchmany(20))"
   ]
  },
  {
   "cell_type": "markdown",
   "id": "4d877b26",
   "metadata": {},
   "source": [
    "Q13: Find the facilities usage by month, but not guests"
   ]
  },
  {
   "cell_type": "code",
   "execution_count": 35,
   "id": "c3a2b91d",
   "metadata": {},
   "outputs": [
    {
     "name": "stdout",
     "output_type": "stream",
     "text": [
      "[('Badminton Court', '07', 165), ('Badminton Court', '08', 414), ('Badminton Court', '09', 507), ('Massage Room 1', '07', 166), ('Massage Room 1', '08', 316), ('Massage Room 1', '09', 402), ('Massage Room 2', '07', 8), ('Massage Room 2', '08', 18), ('Massage Room 2', '09', 28), ('Pool Table', '07', 110), ('Pool Table', '08', 303), ('Pool Table', '09', 443), ('Snooker Table', '07', 140), ('Snooker Table', '08', 316), ('Snooker Table', '09', 404), ('Squash Court', '07', 50), ('Squash Court', '08', 184), ('Squash Court', '09', 184), ('Table Tennis', '07', 98), ('Table Tennis', '08', 296), ('Table Tennis', '09', 400), ('Tennis Court 1', '07', 201), ('Tennis Court 1', '08', 339), ('Tennis Court 1', '09', 417), ('Tennis Court 2', '07', 123), ('Tennis Court 2', '08', 345), ('Tennis Court 2', '09', 414)]\n"
     ]
    }
   ],
   "source": [
    "c.execute(\"\"\"SELECT f.name, substr(b.starttime, 6, 2), SUM(b.slots)\n",
    "             FROM Bookings as b\n",
    "             LEFT JOIN Facilities as f\n",
    "             ON b.facid = f.facid\n",
    "             WHERE b.memid != 0\n",
    "             GROUP BY f.name, substr(b.starttime, 6, 2)\"\"\")\n",
    "print(c.fetchall())"
   ]
  },
  {
   "cell_type": "code",
   "execution_count": null,
   "id": "3ad93bf5",
   "metadata": {},
   "outputs": [],
   "source": []
  }
 ],
 "metadata": {
  "kernelspec": {
   "display_name": "Python 3 (ipykernel)",
   "language": "python",
   "name": "python3"
  },
  "language_info": {
   "codemirror_mode": {
    "name": "ipython",
    "version": 3
   },
   "file_extension": ".py",
   "mimetype": "text/x-python",
   "name": "python",
   "nbconvert_exporter": "python",
   "pygments_lexer": "ipython3",
   "version": "3.11.3"
  }
 },
 "nbformat": 4,
 "nbformat_minor": 5
}
